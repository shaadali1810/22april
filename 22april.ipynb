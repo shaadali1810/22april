{
 "cells": [
  {
   "cell_type": "code",
   "execution_count": 1,
   "id": "f4a41684-207a-4028-9d5e-b55ceea01d79",
   "metadata": {},
   "outputs": [],
   "source": [
    "from sklearn.datasets import load_iris"
   ]
  },
  {
   "cell_type": "code",
   "execution_count": 11,
   "id": "2dec37fa-f155-4dbd-925d-52d73b0cbe62",
   "metadata": {},
   "outputs": [],
   "source": [
    "dataset=load_iris()"
   ]
  },
  {
   "cell_type": "code",
   "execution_count": 118,
   "id": "cf84bf65-d106-4626-af9c-8612fce1852c",
   "metadata": {},
   "outputs": [],
   "source": [
    "import pandas as pd"
   ]
  },
  {
   "cell_type": "code",
   "execution_count": 119,
   "id": "4f344fc5-8127-481f-b8e2-4e32ef0fb420",
   "metadata": {},
   "outputs": [],
   "source": [
    "df=pd.DataFrame(data=dataset.data,columns=data.feature_names)"
   ]
  },
  {
   "cell_type": "code",
   "execution_count": 120,
   "id": "229800c0-3d40-44cc-8da1-647eb31d2510",
   "metadata": {},
   "outputs": [],
   "source": [
    "df=df.astype(int)"
   ]
  },
  {
   "cell_type": "code",
   "execution_count": 121,
   "id": "beea6fed-a7fb-404c-be78-f30573a17b78",
   "metadata": {},
   "outputs": [
    {
     "data": {
      "text/html": [
       "<div>\n",
       "<style scoped>\n",
       "    .dataframe tbody tr th:only-of-type {\n",
       "        vertical-align: middle;\n",
       "    }\n",
       "\n",
       "    .dataframe tbody tr th {\n",
       "        vertical-align: top;\n",
       "    }\n",
       "\n",
       "    .dataframe thead th {\n",
       "        text-align: right;\n",
       "    }\n",
       "</style>\n",
       "<table border=\"1\" class=\"dataframe\">\n",
       "  <thead>\n",
       "    <tr style=\"text-align: right;\">\n",
       "      <th></th>\n",
       "      <th>sepal length (cm)</th>\n",
       "      <th>sepal width (cm)</th>\n",
       "      <th>petal length (cm)</th>\n",
       "      <th>petal width (cm)</th>\n",
       "    </tr>\n",
       "  </thead>\n",
       "  <tbody>\n",
       "    <tr>\n",
       "      <th>0</th>\n",
       "      <td>5</td>\n",
       "      <td>3</td>\n",
       "      <td>1</td>\n",
       "      <td>0</td>\n",
       "    </tr>\n",
       "    <tr>\n",
       "      <th>1</th>\n",
       "      <td>4</td>\n",
       "      <td>3</td>\n",
       "      <td>1</td>\n",
       "      <td>0</td>\n",
       "    </tr>\n",
       "    <tr>\n",
       "      <th>2</th>\n",
       "      <td>4</td>\n",
       "      <td>3</td>\n",
       "      <td>1</td>\n",
       "      <td>0</td>\n",
       "    </tr>\n",
       "    <tr>\n",
       "      <th>3</th>\n",
       "      <td>4</td>\n",
       "      <td>3</td>\n",
       "      <td>1</td>\n",
       "      <td>0</td>\n",
       "    </tr>\n",
       "    <tr>\n",
       "      <th>4</th>\n",
       "      <td>5</td>\n",
       "      <td>3</td>\n",
       "      <td>1</td>\n",
       "      <td>0</td>\n",
       "    </tr>\n",
       "  </tbody>\n",
       "</table>\n",
       "</div>"
      ],
      "text/plain": [
       "   sepal length (cm)  sepal width (cm)  petal length (cm)  petal width (cm)\n",
       "0                  5                 3                  1                 0\n",
       "1                  4                 3                  1                 0\n",
       "2                  4                 3                  1                 0\n",
       "3                  4                 3                  1                 0\n",
       "4                  5                 3                  1                 0"
      ]
     },
     "execution_count": 121,
     "metadata": {},
     "output_type": "execute_result"
    }
   ],
   "source": [
    "df.head()"
   ]
  },
  {
   "cell_type": "code",
   "execution_count": 122,
   "id": "5266fe83-524a-4948-9efc-e5a70949d0f0",
   "metadata": {},
   "outputs": [],
   "source": [
    "X=df.iloc[:,:-1]\n",
    "Y=df.iloc[:,-1]\n"
   ]
  },
  {
   "cell_type": "code",
   "execution_count": null,
   "id": "cb05ce91-599f-49b0-9982-100d343be326",
   "metadata": {},
   "outputs": [],
   "source": []
  },
  {
   "cell_type": "code",
   "execution_count": 125,
   "id": "494d7f21-f7eb-4d43-8d2f-befb9909542e",
   "metadata": {},
   "outputs": [],
   "source": [
    "from sklearn.preprocessing import StandardScaler"
   ]
  },
  {
   "cell_type": "code",
   "execution_count": 126,
   "id": "0aac0de3-5a99-439e-a0bc-b7b14f5cdb1b",
   "metadata": {},
   "outputs": [],
   "source": [
    "encoder=StandardScaler()"
   ]
  },
  {
   "cell_type": "code",
   "execution_count": 128,
   "id": "131dfbee-3558-4991-86b1-9f5e68308558",
   "metadata": {},
   "outputs": [
    {
     "data": {
      "text/plain": [
       "array([[-0.46089845,  0.66557499, -1.30604169],\n",
       "       [-1.6528772 ,  0.66557499, -1.30604169],\n",
       "       [-1.6528772 ,  0.66557499, -1.30604169],\n",
       "       [-1.6528772 ,  0.66557499, -1.30604169],\n",
       "       [-0.46089845,  0.66557499, -1.30604169],\n",
       "       [-0.46089845,  0.66557499, -1.30604169],\n",
       "       [-1.6528772 ,  0.66557499, -1.30604169],\n",
       "       [-0.46089845,  0.66557499, -1.30604169],\n",
       "       [-1.6528772 , -1.21812781, -1.30604169],\n",
       "       [-1.6528772 ,  0.66557499, -1.30604169],\n",
       "       [-0.46089845,  0.66557499, -1.30604169],\n",
       "       [-1.6528772 ,  0.66557499, -1.30604169],\n",
       "       [-1.6528772 ,  0.66557499, -1.30604169],\n",
       "       [-1.6528772 ,  0.66557499, -1.30604169],\n",
       "       [-0.46089845,  2.54927778, -1.30604169],\n",
       "       [-0.46089845,  2.54927778, -1.30604169],\n",
       "       [-0.46089845,  0.66557499, -1.30604169],\n",
       "       [-0.46089845,  0.66557499, -1.30604169],\n",
       "       [-0.46089845,  0.66557499, -1.30604169],\n",
       "       [-0.46089845,  0.66557499, -1.30604169],\n",
       "       [-0.46089845,  0.66557499, -1.30604169],\n",
       "       [-0.46089845,  0.66557499, -1.30604169],\n",
       "       [-1.6528772 ,  0.66557499, -1.30604169],\n",
       "       [-0.46089845,  0.66557499, -1.30604169],\n",
       "       [-1.6528772 ,  0.66557499, -1.30604169],\n",
       "       [-0.46089845,  0.66557499, -1.30604169],\n",
       "       [-0.46089845,  0.66557499, -1.30604169],\n",
       "       [-0.46089845,  0.66557499, -1.30604169],\n",
       "       [-0.46089845,  0.66557499, -1.30604169],\n",
       "       [-1.6528772 ,  0.66557499, -1.30604169],\n",
       "       [-1.6528772 ,  0.66557499, -1.30604169],\n",
       "       [-0.46089845,  0.66557499, -1.30604169],\n",
       "       [-0.46089845,  2.54927778, -1.30604169],\n",
       "       [-0.46089845,  2.54927778, -1.30604169],\n",
       "       [-1.6528772 ,  0.66557499, -1.30604169],\n",
       "       [-0.46089845,  0.66557499, -1.30604169],\n",
       "       [-0.46089845,  0.66557499, -1.30604169],\n",
       "       [-1.6528772 ,  0.66557499, -1.30604169],\n",
       "       [-1.6528772 ,  0.66557499, -1.30604169],\n",
       "       [-0.46089845,  0.66557499, -1.30604169],\n",
       "       [-0.46089845,  0.66557499, -1.30604169],\n",
       "       [-1.6528772 , -1.21812781, -1.30604169],\n",
       "       [-1.6528772 ,  0.66557499, -1.30604169],\n",
       "       [-0.46089845,  0.66557499, -1.30604169],\n",
       "       [-0.46089845,  0.66557499, -1.30604169],\n",
       "       [-1.6528772 ,  0.66557499, -1.30604169],\n",
       "       [-0.46089845,  0.66557499, -1.30604169],\n",
       "       [-1.6528772 ,  0.66557499, -1.30604169],\n",
       "       [-0.46089845,  0.66557499, -1.30604169],\n",
       "       [-0.46089845,  0.66557499, -1.30604169],\n",
       "       [ 1.92305905,  0.66557499,  0.39256744],\n",
       "       [ 0.7310803 ,  0.66557499,  0.39256744],\n",
       "       [ 0.7310803 ,  0.66557499,  0.39256744],\n",
       "       [-0.46089845, -1.21812781,  0.39256744],\n",
       "       [ 0.7310803 , -1.21812781,  0.39256744],\n",
       "       [-0.46089845, -1.21812781,  0.39256744],\n",
       "       [ 0.7310803 ,  0.66557499,  0.39256744],\n",
       "       [-1.6528772 , -1.21812781, -0.1736356 ],\n",
       "       [ 0.7310803 , -1.21812781,  0.39256744],\n",
       "       [-0.46089845, -1.21812781, -0.1736356 ],\n",
       "       [-0.46089845, -1.21812781, -0.1736356 ],\n",
       "       [-0.46089845,  0.66557499,  0.39256744],\n",
       "       [ 0.7310803 , -1.21812781,  0.39256744],\n",
       "       [ 0.7310803 , -1.21812781,  0.39256744],\n",
       "       [-0.46089845, -1.21812781, -0.1736356 ],\n",
       "       [ 0.7310803 ,  0.66557499,  0.39256744],\n",
       "       [-0.46089845,  0.66557499,  0.39256744],\n",
       "       [-0.46089845, -1.21812781,  0.39256744],\n",
       "       [ 0.7310803 , -1.21812781,  0.39256744],\n",
       "       [-0.46089845, -1.21812781, -0.1736356 ],\n",
       "       [-0.46089845,  0.66557499,  0.39256744],\n",
       "       [ 0.7310803 , -1.21812781,  0.39256744],\n",
       "       [ 0.7310803 , -1.21812781,  0.39256744],\n",
       "       [ 0.7310803 , -1.21812781,  0.39256744],\n",
       "       [ 0.7310803 , -1.21812781,  0.39256744],\n",
       "       [ 0.7310803 ,  0.66557499,  0.39256744],\n",
       "       [ 0.7310803 , -1.21812781,  0.39256744],\n",
       "       [ 0.7310803 ,  0.66557499,  0.95877049],\n",
       "       [ 0.7310803 , -1.21812781,  0.39256744],\n",
       "       [-0.46089845, -1.21812781, -0.1736356 ],\n",
       "       [-0.46089845, -1.21812781, -0.1736356 ],\n",
       "       [-0.46089845, -1.21812781, -0.1736356 ],\n",
       "       [-0.46089845, -1.21812781, -0.1736356 ],\n",
       "       [ 0.7310803 , -1.21812781,  0.95877049],\n",
       "       [-0.46089845,  0.66557499,  0.39256744],\n",
       "       [ 0.7310803 ,  0.66557499,  0.39256744],\n",
       "       [ 0.7310803 ,  0.66557499,  0.39256744],\n",
       "       [ 0.7310803 , -1.21812781,  0.39256744],\n",
       "       [-0.46089845,  0.66557499,  0.39256744],\n",
       "       [-0.46089845, -1.21812781,  0.39256744],\n",
       "       [-0.46089845, -1.21812781,  0.39256744],\n",
       "       [ 0.7310803 ,  0.66557499,  0.39256744],\n",
       "       [-0.46089845, -1.21812781,  0.39256744],\n",
       "       [-0.46089845, -1.21812781, -0.1736356 ],\n",
       "       [-0.46089845, -1.21812781,  0.39256744],\n",
       "       [-0.46089845,  0.66557499,  0.39256744],\n",
       "       [-0.46089845, -1.21812781,  0.39256744],\n",
       "       [ 0.7310803 , -1.21812781,  0.39256744],\n",
       "       [-0.46089845, -1.21812781, -0.1736356 ],\n",
       "       [-0.46089845, -1.21812781,  0.39256744],\n",
       "       [ 0.7310803 ,  0.66557499,  1.52497354],\n",
       "       [-0.46089845, -1.21812781,  0.95877049],\n",
       "       [ 1.92305905,  0.66557499,  0.95877049],\n",
       "       [ 0.7310803 , -1.21812781,  0.95877049],\n",
       "       [ 0.7310803 ,  0.66557499,  0.95877049],\n",
       "       [ 1.92305905,  0.66557499,  1.52497354],\n",
       "       [-1.6528772 , -1.21812781,  0.39256744],\n",
       "       [ 1.92305905, -1.21812781,  1.52497354],\n",
       "       [ 0.7310803 , -1.21812781,  0.95877049],\n",
       "       [ 1.92305905,  0.66557499,  1.52497354],\n",
       "       [ 0.7310803 ,  0.66557499,  0.95877049],\n",
       "       [ 0.7310803 , -1.21812781,  0.95877049],\n",
       "       [ 0.7310803 ,  0.66557499,  0.95877049],\n",
       "       [-0.46089845, -1.21812781,  0.95877049],\n",
       "       [-0.46089845, -1.21812781,  0.95877049],\n",
       "       [ 0.7310803 ,  0.66557499,  0.95877049],\n",
       "       [ 0.7310803 ,  0.66557499,  0.95877049],\n",
       "       [ 1.92305905,  0.66557499,  1.52497354],\n",
       "       [ 1.92305905, -1.21812781,  1.52497354],\n",
       "       [ 0.7310803 , -1.21812781,  0.95877049],\n",
       "       [ 0.7310803 ,  0.66557499,  0.95877049],\n",
       "       [-0.46089845, -1.21812781,  0.39256744],\n",
       "       [ 1.92305905, -1.21812781,  1.52497354],\n",
       "       [ 0.7310803 , -1.21812781,  0.39256744],\n",
       "       [ 0.7310803 ,  0.66557499,  0.95877049],\n",
       "       [ 1.92305905,  0.66557499,  1.52497354],\n",
       "       [ 0.7310803 , -1.21812781,  0.39256744],\n",
       "       [ 0.7310803 ,  0.66557499,  0.39256744],\n",
       "       [ 0.7310803 , -1.21812781,  0.95877049],\n",
       "       [ 1.92305905,  0.66557499,  0.95877049],\n",
       "       [ 1.92305905, -1.21812781,  1.52497354],\n",
       "       [ 1.92305905,  0.66557499,  1.52497354],\n",
       "       [ 0.7310803 , -1.21812781,  0.95877049],\n",
       "       [ 0.7310803 , -1.21812781,  0.95877049],\n",
       "       [ 0.7310803 , -1.21812781,  0.95877049],\n",
       "       [ 1.92305905,  0.66557499,  1.52497354],\n",
       "       [ 0.7310803 ,  0.66557499,  0.95877049],\n",
       "       [ 0.7310803 ,  0.66557499,  0.95877049],\n",
       "       [ 0.7310803 ,  0.66557499,  0.39256744],\n",
       "       [ 0.7310803 ,  0.66557499,  0.95877049],\n",
       "       [ 0.7310803 ,  0.66557499,  0.95877049],\n",
       "       [ 0.7310803 ,  0.66557499,  0.95877049],\n",
       "       [-0.46089845, -1.21812781,  0.95877049],\n",
       "       [ 0.7310803 ,  0.66557499,  0.95877049],\n",
       "       [ 0.7310803 ,  0.66557499,  0.95877049],\n",
       "       [ 0.7310803 ,  0.66557499,  0.95877049],\n",
       "       [ 0.7310803 , -1.21812781,  0.95877049],\n",
       "       [ 0.7310803 ,  0.66557499,  0.95877049],\n",
       "       [ 0.7310803 ,  0.66557499,  0.95877049],\n",
       "       [-0.46089845,  0.66557499,  0.95877049]])"
      ]
     },
     "execution_count": 128,
     "metadata": {},
     "output_type": "execute_result"
    }
   ],
   "source": [
    "encoder.fit_transform(X)"
   ]
  },
  {
   "cell_type": "code",
   "execution_count": 124,
   "id": "9485daa2-1784-4e4d-bf5a-130d0a5cb2c9",
   "metadata": {},
   "outputs": [],
   "source": [
    "from sklearn.model_selection import train_test_split"
   ]
  },
  {
   "cell_type": "code",
   "execution_count": 124,
   "id": "989ec951-56c0-4e24-af21-8812f46bf6f7",
   "metadata": {},
   "outputs": [],
   "source": [
    "from sklearn.model_selection import train_test_split"
   ]
  },
  {
   "cell_type": "code",
   "execution_count": null,
   "id": "daac4dcb-e192-40f6-b1ff-d972b53defc2",
   "metadata": {},
   "outputs": [],
   "source": []
  },
  {
   "cell_type": "code",
   "execution_count": 130,
   "id": "a4ae76d2-c752-4dcd-a9d4-e2cd24b2b4f9",
   "metadata": {},
   "outputs": [],
   "source": [
    "Y=Y.astype(str)"
   ]
  },
  {
   "cell_type": "code",
   "execution_count": null,
   "id": "5e810a85-427b-4776-87fe-176261f122ed",
   "metadata": {},
   "outputs": [],
   "source": [
    "Y."
   ]
  },
  {
   "cell_type": "code",
   "execution_count": 72,
   "id": "2b561722-b29f-4bbf-bdcc-c05d919ad349",
   "metadata": {},
   "outputs": [],
   "source": [
    "X_train,X_test,Y_train,Y_test=train_test_split(X,Y,random_state=42,test_size=0.30)"
   ]
  },
  {
   "cell_type": "code",
   "execution_count": 73,
   "id": "b88374ef-790c-47bf-bf03-5a4a80f04c45",
   "metadata": {},
   "outputs": [],
   "source": [
    "from sklearn.neighbors import KNeighborsClassifier"
   ]
  },
  {
   "cell_type": "code",
   "execution_count": 74,
   "id": "48df3d16-6077-40bf-a8e6-fa53407af24d",
   "metadata": {},
   "outputs": [],
   "source": [
    "classifier=KNeighborsClassifier(n_neighbors=5,algorithm='auto')"
   ]
  },
  {
   "cell_type": "code",
   "execution_count": 75,
   "id": "ed03aa7a-56eb-410c-9ae9-324c838c6b10",
   "metadata": {},
   "outputs": [
    {
     "data": {
      "text/html": [
       "<style>#sk-container-id-1 {color: black;background-color: white;}#sk-container-id-1 pre{padding: 0;}#sk-container-id-1 div.sk-toggleable {background-color: white;}#sk-container-id-1 label.sk-toggleable__label {cursor: pointer;display: block;width: 100%;margin-bottom: 0;padding: 0.3em;box-sizing: border-box;text-align: center;}#sk-container-id-1 label.sk-toggleable__label-arrow:before {content: \"▸\";float: left;margin-right: 0.25em;color: #696969;}#sk-container-id-1 label.sk-toggleable__label-arrow:hover:before {color: black;}#sk-container-id-1 div.sk-estimator:hover label.sk-toggleable__label-arrow:before {color: black;}#sk-container-id-1 div.sk-toggleable__content {max-height: 0;max-width: 0;overflow: hidden;text-align: left;background-color: #f0f8ff;}#sk-container-id-1 div.sk-toggleable__content pre {margin: 0.2em;color: black;border-radius: 0.25em;background-color: #f0f8ff;}#sk-container-id-1 input.sk-toggleable__control:checked~div.sk-toggleable__content {max-height: 200px;max-width: 100%;overflow: auto;}#sk-container-id-1 input.sk-toggleable__control:checked~label.sk-toggleable__label-arrow:before {content: \"▾\";}#sk-container-id-1 div.sk-estimator input.sk-toggleable__control:checked~label.sk-toggleable__label {background-color: #d4ebff;}#sk-container-id-1 div.sk-label input.sk-toggleable__control:checked~label.sk-toggleable__label {background-color: #d4ebff;}#sk-container-id-1 input.sk-hidden--visually {border: 0;clip: rect(1px 1px 1px 1px);clip: rect(1px, 1px, 1px, 1px);height: 1px;margin: -1px;overflow: hidden;padding: 0;position: absolute;width: 1px;}#sk-container-id-1 div.sk-estimator {font-family: monospace;background-color: #f0f8ff;border: 1px dotted black;border-radius: 0.25em;box-sizing: border-box;margin-bottom: 0.5em;}#sk-container-id-1 div.sk-estimator:hover {background-color: #d4ebff;}#sk-container-id-1 div.sk-parallel-item::after {content: \"\";width: 100%;border-bottom: 1px solid gray;flex-grow: 1;}#sk-container-id-1 div.sk-label:hover label.sk-toggleable__label {background-color: #d4ebff;}#sk-container-id-1 div.sk-serial::before {content: \"\";position: absolute;border-left: 1px solid gray;box-sizing: border-box;top: 0;bottom: 0;left: 50%;z-index: 0;}#sk-container-id-1 div.sk-serial {display: flex;flex-direction: column;align-items: center;background-color: white;padding-right: 0.2em;padding-left: 0.2em;position: relative;}#sk-container-id-1 div.sk-item {position: relative;z-index: 1;}#sk-container-id-1 div.sk-parallel {display: flex;align-items: stretch;justify-content: center;background-color: white;position: relative;}#sk-container-id-1 div.sk-item::before, #sk-container-id-1 div.sk-parallel-item::before {content: \"\";position: absolute;border-left: 1px solid gray;box-sizing: border-box;top: 0;bottom: 0;left: 50%;z-index: -1;}#sk-container-id-1 div.sk-parallel-item {display: flex;flex-direction: column;z-index: 1;position: relative;background-color: white;}#sk-container-id-1 div.sk-parallel-item:first-child::after {align-self: flex-end;width: 50%;}#sk-container-id-1 div.sk-parallel-item:last-child::after {align-self: flex-start;width: 50%;}#sk-container-id-1 div.sk-parallel-item:only-child::after {width: 0;}#sk-container-id-1 div.sk-dashed-wrapped {border: 1px dashed gray;margin: 0 0.4em 0.5em 0.4em;box-sizing: border-box;padding-bottom: 0.4em;background-color: white;}#sk-container-id-1 div.sk-label label {font-family: monospace;font-weight: bold;display: inline-block;line-height: 1.2em;}#sk-container-id-1 div.sk-label-container {text-align: center;}#sk-container-id-1 div.sk-container {/* jupyter's `normalize.less` sets `[hidden] { display: none; }` but bootstrap.min.css set `[hidden] { display: none !important; }` so we also need the `!important` here to be able to override the default hidden behavior on the sphinx rendered scikit-learn.org. See: https://github.com/scikit-learn/scikit-learn/issues/21755 */display: inline-block !important;position: relative;}#sk-container-id-1 div.sk-text-repr-fallback {display: none;}</style><div id=\"sk-container-id-1\" class=\"sk-top-container\"><div class=\"sk-text-repr-fallback\"><pre>KNeighborsClassifier()</pre><b>In a Jupyter environment, please rerun this cell to show the HTML representation or trust the notebook. <br />On GitHub, the HTML representation is unable to render, please try loading this page with nbviewer.org.</b></div><div class=\"sk-container\" hidden><div class=\"sk-item\"><div class=\"sk-estimator sk-toggleable\"><input class=\"sk-toggleable__control sk-hidden--visually\" id=\"sk-estimator-id-1\" type=\"checkbox\" checked><label for=\"sk-estimator-id-1\" class=\"sk-toggleable__label sk-toggleable__label-arrow\">KNeighborsClassifier</label><div class=\"sk-toggleable__content\"><pre>KNeighborsClassifier()</pre></div></div></div></div></div>"
      ],
      "text/plain": [
       "KNeighborsClassifier()"
      ]
     },
     "execution_count": 75,
     "metadata": {},
     "output_type": "execute_result"
    }
   ],
   "source": [
    "classifier.fit(X_train,Y_train)"
   ]
  },
  {
   "cell_type": "code",
   "execution_count": 80,
   "id": "70159760-96cc-4a58-8c93-aa89e79ac47c",
   "metadata": {},
   "outputs": [],
   "source": [
    "import pandas as pd\n",
    "import numpy as np\n",
    "import matplotlib.pyplot as plt\n",
    "%matplotlib inline"
   ]
  },
  {
   "cell_type": "code",
   "execution_count": 81,
   "id": "a8ae6408-0999-4cec-815c-589195c69ecd",
   "metadata": {},
   "outputs": [],
   "source": [
    "df=pd.read_csv('BostonHousing.csv')"
   ]
  },
  {
   "cell_type": "code",
   "execution_count": 82,
   "id": "dd2c566b-e34d-4bfe-b84e-10810646c45a",
   "metadata": {},
   "outputs": [
    {
     "data": {
      "text/html": [
       "<div>\n",
       "<style scoped>\n",
       "    .dataframe tbody tr th:only-of-type {\n",
       "        vertical-align: middle;\n",
       "    }\n",
       "\n",
       "    .dataframe tbody tr th {\n",
       "        vertical-align: top;\n",
       "    }\n",
       "\n",
       "    .dataframe thead th {\n",
       "        text-align: right;\n",
       "    }\n",
       "</style>\n",
       "<table border=\"1\" class=\"dataframe\">\n",
       "  <thead>\n",
       "    <tr style=\"text-align: right;\">\n",
       "      <th></th>\n",
       "      <th>crim</th>\n",
       "      <th>zn</th>\n",
       "      <th>indus</th>\n",
       "      <th>chas</th>\n",
       "      <th>nox</th>\n",
       "      <th>rm</th>\n",
       "      <th>age</th>\n",
       "      <th>dis</th>\n",
       "      <th>rad</th>\n",
       "      <th>tax</th>\n",
       "      <th>ptratio</th>\n",
       "      <th>b</th>\n",
       "      <th>lstat</th>\n",
       "      <th>medv</th>\n",
       "    </tr>\n",
       "  </thead>\n",
       "  <tbody>\n",
       "    <tr>\n",
       "      <th>0</th>\n",
       "      <td>0.00632</td>\n",
       "      <td>18.0</td>\n",
       "      <td>2.31</td>\n",
       "      <td>0</td>\n",
       "      <td>0.538</td>\n",
       "      <td>6.575</td>\n",
       "      <td>65.2</td>\n",
       "      <td>4.0900</td>\n",
       "      <td>1</td>\n",
       "      <td>296</td>\n",
       "      <td>15.3</td>\n",
       "      <td>396.90</td>\n",
       "      <td>4.98</td>\n",
       "      <td>24.0</td>\n",
       "    </tr>\n",
       "    <tr>\n",
       "      <th>1</th>\n",
       "      <td>0.02731</td>\n",
       "      <td>0.0</td>\n",
       "      <td>7.07</td>\n",
       "      <td>0</td>\n",
       "      <td>0.469</td>\n",
       "      <td>6.421</td>\n",
       "      <td>78.9</td>\n",
       "      <td>4.9671</td>\n",
       "      <td>2</td>\n",
       "      <td>242</td>\n",
       "      <td>17.8</td>\n",
       "      <td>396.90</td>\n",
       "      <td>9.14</td>\n",
       "      <td>21.6</td>\n",
       "    </tr>\n",
       "    <tr>\n",
       "      <th>2</th>\n",
       "      <td>0.02729</td>\n",
       "      <td>0.0</td>\n",
       "      <td>7.07</td>\n",
       "      <td>0</td>\n",
       "      <td>0.469</td>\n",
       "      <td>7.185</td>\n",
       "      <td>61.1</td>\n",
       "      <td>4.9671</td>\n",
       "      <td>2</td>\n",
       "      <td>242</td>\n",
       "      <td>17.8</td>\n",
       "      <td>392.83</td>\n",
       "      <td>4.03</td>\n",
       "      <td>34.7</td>\n",
       "    </tr>\n",
       "    <tr>\n",
       "      <th>3</th>\n",
       "      <td>0.03237</td>\n",
       "      <td>0.0</td>\n",
       "      <td>2.18</td>\n",
       "      <td>0</td>\n",
       "      <td>0.458</td>\n",
       "      <td>6.998</td>\n",
       "      <td>45.8</td>\n",
       "      <td>6.0622</td>\n",
       "      <td>3</td>\n",
       "      <td>222</td>\n",
       "      <td>18.7</td>\n",
       "      <td>394.63</td>\n",
       "      <td>2.94</td>\n",
       "      <td>33.4</td>\n",
       "    </tr>\n",
       "    <tr>\n",
       "      <th>4</th>\n",
       "      <td>0.06905</td>\n",
       "      <td>0.0</td>\n",
       "      <td>2.18</td>\n",
       "      <td>0</td>\n",
       "      <td>0.458</td>\n",
       "      <td>7.147</td>\n",
       "      <td>54.2</td>\n",
       "      <td>6.0622</td>\n",
       "      <td>3</td>\n",
       "      <td>222</td>\n",
       "      <td>18.7</td>\n",
       "      <td>396.90</td>\n",
       "      <td>5.33</td>\n",
       "      <td>36.2</td>\n",
       "    </tr>\n",
       "  </tbody>\n",
       "</table>\n",
       "</div>"
      ],
      "text/plain": [
       "      crim    zn  indus  chas    nox     rm   age     dis  rad  tax  ptratio  \\\n",
       "0  0.00632  18.0   2.31     0  0.538  6.575  65.2  4.0900    1  296     15.3   \n",
       "1  0.02731   0.0   7.07     0  0.469  6.421  78.9  4.9671    2  242     17.8   \n",
       "2  0.02729   0.0   7.07     0  0.469  7.185  61.1  4.9671    2  242     17.8   \n",
       "3  0.03237   0.0   2.18     0  0.458  6.998  45.8  6.0622    3  222     18.7   \n",
       "4  0.06905   0.0   2.18     0  0.458  7.147  54.2  6.0622    3  222     18.7   \n",
       "\n",
       "        b  lstat  medv  \n",
       "0  396.90   4.98  24.0  \n",
       "1  396.90   9.14  21.6  \n",
       "2  392.83   4.03  34.7  \n",
       "3  394.63   2.94  33.4  \n",
       "4  396.90   5.33  36.2  "
      ]
     },
     "execution_count": 82,
     "metadata": {},
     "output_type": "execute_result"
    }
   ],
   "source": [
    "df.head()"
   ]
  },
  {
   "cell_type": "code",
   "execution_count": 84,
   "id": "63c12737-1a06-46a7-a065-b8b98638904f",
   "metadata": {},
   "outputs": [],
   "source": [
    "X=df.drop(labels='b',axis=1)\n",
    "Y=df.b"
   ]
  },
  {
   "cell_type": "code",
   "execution_count": 85,
   "id": "79f54563-aadb-450d-af87-bd639b8284ad",
   "metadata": {},
   "outputs": [],
   "source": [
    "from sklearn.model_selection import train_test_split"
   ]
  },
  {
   "cell_type": "code",
   "execution_count": 86,
   "id": "9639fa92-56ae-4e1a-a0af-2e5f1e6d264f",
   "metadata": {},
   "outputs": [],
   "source": [
    "X_train,X_test,Y_train,Y_test=train_test_split(X,Y,random_state=45,test_size=0.35)"
   ]
  },
  {
   "cell_type": "code",
   "execution_count": 87,
   "id": "3157e82f-6e0b-401f-b857-88085dbef4be",
   "metadata": {},
   "outputs": [],
   "source": [
    "from sklearn.neighbors import KNeighborsRegressor"
   ]
  },
  {
   "cell_type": "code",
   "execution_count": 88,
   "id": "4e22edf5-ad39-4b33-a92b-b0c4fe1dfbb3",
   "metadata": {},
   "outputs": [],
   "source": [
    "Kregeressor=KNeighborsRegressor(n_neighbors=5,algorithm='auto')"
   ]
  },
  {
   "cell_type": "code",
   "execution_count": 89,
   "id": "4d49bf49-d126-4d56-a016-b4cb815bc268",
   "metadata": {},
   "outputs": [
    {
     "data": {
      "text/html": [
       "<style>#sk-container-id-2 {color: black;background-color: white;}#sk-container-id-2 pre{padding: 0;}#sk-container-id-2 div.sk-toggleable {background-color: white;}#sk-container-id-2 label.sk-toggleable__label {cursor: pointer;display: block;width: 100%;margin-bottom: 0;padding: 0.3em;box-sizing: border-box;text-align: center;}#sk-container-id-2 label.sk-toggleable__label-arrow:before {content: \"▸\";float: left;margin-right: 0.25em;color: #696969;}#sk-container-id-2 label.sk-toggleable__label-arrow:hover:before {color: black;}#sk-container-id-2 div.sk-estimator:hover label.sk-toggleable__label-arrow:before {color: black;}#sk-container-id-2 div.sk-toggleable__content {max-height: 0;max-width: 0;overflow: hidden;text-align: left;background-color: #f0f8ff;}#sk-container-id-2 div.sk-toggleable__content pre {margin: 0.2em;color: black;border-radius: 0.25em;background-color: #f0f8ff;}#sk-container-id-2 input.sk-toggleable__control:checked~div.sk-toggleable__content {max-height: 200px;max-width: 100%;overflow: auto;}#sk-container-id-2 input.sk-toggleable__control:checked~label.sk-toggleable__label-arrow:before {content: \"▾\";}#sk-container-id-2 div.sk-estimator input.sk-toggleable__control:checked~label.sk-toggleable__label {background-color: #d4ebff;}#sk-container-id-2 div.sk-label input.sk-toggleable__control:checked~label.sk-toggleable__label {background-color: #d4ebff;}#sk-container-id-2 input.sk-hidden--visually {border: 0;clip: rect(1px 1px 1px 1px);clip: rect(1px, 1px, 1px, 1px);height: 1px;margin: -1px;overflow: hidden;padding: 0;position: absolute;width: 1px;}#sk-container-id-2 div.sk-estimator {font-family: monospace;background-color: #f0f8ff;border: 1px dotted black;border-radius: 0.25em;box-sizing: border-box;margin-bottom: 0.5em;}#sk-container-id-2 div.sk-estimator:hover {background-color: #d4ebff;}#sk-container-id-2 div.sk-parallel-item::after {content: \"\";width: 100%;border-bottom: 1px solid gray;flex-grow: 1;}#sk-container-id-2 div.sk-label:hover label.sk-toggleable__label {background-color: #d4ebff;}#sk-container-id-2 div.sk-serial::before {content: \"\";position: absolute;border-left: 1px solid gray;box-sizing: border-box;top: 0;bottom: 0;left: 50%;z-index: 0;}#sk-container-id-2 div.sk-serial {display: flex;flex-direction: column;align-items: center;background-color: white;padding-right: 0.2em;padding-left: 0.2em;position: relative;}#sk-container-id-2 div.sk-item {position: relative;z-index: 1;}#sk-container-id-2 div.sk-parallel {display: flex;align-items: stretch;justify-content: center;background-color: white;position: relative;}#sk-container-id-2 div.sk-item::before, #sk-container-id-2 div.sk-parallel-item::before {content: \"\";position: absolute;border-left: 1px solid gray;box-sizing: border-box;top: 0;bottom: 0;left: 50%;z-index: -1;}#sk-container-id-2 div.sk-parallel-item {display: flex;flex-direction: column;z-index: 1;position: relative;background-color: white;}#sk-container-id-2 div.sk-parallel-item:first-child::after {align-self: flex-end;width: 50%;}#sk-container-id-2 div.sk-parallel-item:last-child::after {align-self: flex-start;width: 50%;}#sk-container-id-2 div.sk-parallel-item:only-child::after {width: 0;}#sk-container-id-2 div.sk-dashed-wrapped {border: 1px dashed gray;margin: 0 0.4em 0.5em 0.4em;box-sizing: border-box;padding-bottom: 0.4em;background-color: white;}#sk-container-id-2 div.sk-label label {font-family: monospace;font-weight: bold;display: inline-block;line-height: 1.2em;}#sk-container-id-2 div.sk-label-container {text-align: center;}#sk-container-id-2 div.sk-container {/* jupyter's `normalize.less` sets `[hidden] { display: none; }` but bootstrap.min.css set `[hidden] { display: none !important; }` so we also need the `!important` here to be able to override the default hidden behavior on the sphinx rendered scikit-learn.org. See: https://github.com/scikit-learn/scikit-learn/issues/21755 */display: inline-block !important;position: relative;}#sk-container-id-2 div.sk-text-repr-fallback {display: none;}</style><div id=\"sk-container-id-2\" class=\"sk-top-container\"><div class=\"sk-text-repr-fallback\"><pre>KNeighborsRegressor()</pre><b>In a Jupyter environment, please rerun this cell to show the HTML representation or trust the notebook. <br />On GitHub, the HTML representation is unable to render, please try loading this page with nbviewer.org.</b></div><div class=\"sk-container\" hidden><div class=\"sk-item\"><div class=\"sk-estimator sk-toggleable\"><input class=\"sk-toggleable__control sk-hidden--visually\" id=\"sk-estimator-id-2\" type=\"checkbox\" checked><label for=\"sk-estimator-id-2\" class=\"sk-toggleable__label sk-toggleable__label-arrow\">KNeighborsRegressor</label><div class=\"sk-toggleable__content\"><pre>KNeighborsRegressor()</pre></div></div></div></div></div>"
      ],
      "text/plain": [
       "KNeighborsRegressor()"
      ]
     },
     "execution_count": 89,
     "metadata": {},
     "output_type": "execute_result"
    }
   ],
   "source": [
    "Kregeressor.fit(X_train,Y_train)"
   ]
  },
  {
   "cell_type": "code",
   "execution_count": 93,
   "id": "f7cf12d0-1a80-4d21-8311-3749d7b01eed",
   "metadata": {},
   "outputs": [],
   "source": [
    "from sklearn.model_selection import GridSearchCV"
   ]
  },
  {
   "cell_type": "code",
   "execution_count": 103,
   "id": "a34dda6c-803b-4805-aeb8-ae3c9bae80dd",
   "metadata": {},
   "outputs": [],
   "source": [
    "params={'n_neighbors':[i for i in range(10)],'p':[1,2],'weights':['uniform','distance']}"
   ]
  },
  {
   "cell_type": "code",
   "execution_count": 104,
   "id": "2cdd8d2c-cd28-40cb-8a7c-5f4364718d52",
   "metadata": {},
   "outputs": [],
   "source": [
    "grid=GridSearchCV(Kregeressor,param_grid=params,cv=5)"
   ]
  },
  {
   "cell_type": "code",
   "execution_count": 105,
   "id": "265a3427-218e-4d37-b4bd-89dbf59e3b0d",
   "metadata": {},
   "outputs": [
    {
     "name": "stderr",
     "output_type": "stream",
     "text": [
      "/opt/conda/lib/python3.10/site-packages/sklearn/model_selection/_validation.py:378: FitFailedWarning: \n",
      "20 fits failed out of a total of 200.\n",
      "The score on these train-test partitions for these parameters will be set to nan.\n",
      "If these failures are not expected, you can try to debug them by setting error_score='raise'.\n",
      "\n",
      "Below are more details about the failures:\n",
      "--------------------------------------------------------------------------------\n",
      "20 fits failed with the following error:\n",
      "Traceback (most recent call last):\n",
      "  File \"/opt/conda/lib/python3.10/site-packages/sklearn/model_selection/_validation.py\", line 686, in _fit_and_score\n",
      "    estimator.fit(X_train, y_train, **fit_params)\n",
      "  File \"/opt/conda/lib/python3.10/site-packages/sklearn/neighbors/_regression.py\", line 215, in fit\n",
      "    self._validate_params()\n",
      "  File \"/opt/conda/lib/python3.10/site-packages/sklearn/base.py\", line 570, in _validate_params\n",
      "    validate_parameter_constraints(\n",
      "  File \"/opt/conda/lib/python3.10/site-packages/sklearn/utils/_param_validation.py\", line 97, in validate_parameter_constraints\n",
      "    raise InvalidParameterError(\n",
      "sklearn.utils._param_validation.InvalidParameterError: The 'n_neighbors' parameter of KNeighborsRegressor must be an int in the range [1, inf) or None. Got 0 instead.\n",
      "\n",
      "  warnings.warn(some_fits_failed_message, FitFailedWarning)\n",
      "/opt/conda/lib/python3.10/site-packages/sklearn/model_selection/_search.py:953: UserWarning: One or more of the test scores are non-finite: [        nan         nan         nan         nan -0.51537254 -0.51537254\n",
      " -0.30133465 -0.30133465 -0.03344374 -0.08477717 -0.03452125 -0.09032094\n",
      " -0.01612039 -0.04812569 -0.02324231 -0.05416801  0.13124804  0.08640978\n",
      "  0.07590973  0.02828316  0.16272359  0.12526237  0.15813429  0.10558272\n",
      "  0.16189828  0.12981741  0.19412868  0.14590676  0.24342262  0.19862184\n",
      "  0.19782253  0.16026277  0.28349243  0.23726644  0.19956914  0.16976457\n",
      "  0.30878012  0.2635042   0.24249709  0.20430301]\n",
      "  warnings.warn(\n"
     ]
    },
    {
     "data": {
      "text/html": [
       "<style>#sk-container-id-4 {color: black;background-color: white;}#sk-container-id-4 pre{padding: 0;}#sk-container-id-4 div.sk-toggleable {background-color: white;}#sk-container-id-4 label.sk-toggleable__label {cursor: pointer;display: block;width: 100%;margin-bottom: 0;padding: 0.3em;box-sizing: border-box;text-align: center;}#sk-container-id-4 label.sk-toggleable__label-arrow:before {content: \"▸\";float: left;margin-right: 0.25em;color: #696969;}#sk-container-id-4 label.sk-toggleable__label-arrow:hover:before {color: black;}#sk-container-id-4 div.sk-estimator:hover label.sk-toggleable__label-arrow:before {color: black;}#sk-container-id-4 div.sk-toggleable__content {max-height: 0;max-width: 0;overflow: hidden;text-align: left;background-color: #f0f8ff;}#sk-container-id-4 div.sk-toggleable__content pre {margin: 0.2em;color: black;border-radius: 0.25em;background-color: #f0f8ff;}#sk-container-id-4 input.sk-toggleable__control:checked~div.sk-toggleable__content {max-height: 200px;max-width: 100%;overflow: auto;}#sk-container-id-4 input.sk-toggleable__control:checked~label.sk-toggleable__label-arrow:before {content: \"▾\";}#sk-container-id-4 div.sk-estimator input.sk-toggleable__control:checked~label.sk-toggleable__label {background-color: #d4ebff;}#sk-container-id-4 div.sk-label input.sk-toggleable__control:checked~label.sk-toggleable__label {background-color: #d4ebff;}#sk-container-id-4 input.sk-hidden--visually {border: 0;clip: rect(1px 1px 1px 1px);clip: rect(1px, 1px, 1px, 1px);height: 1px;margin: -1px;overflow: hidden;padding: 0;position: absolute;width: 1px;}#sk-container-id-4 div.sk-estimator {font-family: monospace;background-color: #f0f8ff;border: 1px dotted black;border-radius: 0.25em;box-sizing: border-box;margin-bottom: 0.5em;}#sk-container-id-4 div.sk-estimator:hover {background-color: #d4ebff;}#sk-container-id-4 div.sk-parallel-item::after {content: \"\";width: 100%;border-bottom: 1px solid gray;flex-grow: 1;}#sk-container-id-4 div.sk-label:hover label.sk-toggleable__label {background-color: #d4ebff;}#sk-container-id-4 div.sk-serial::before {content: \"\";position: absolute;border-left: 1px solid gray;box-sizing: border-box;top: 0;bottom: 0;left: 50%;z-index: 0;}#sk-container-id-4 div.sk-serial {display: flex;flex-direction: column;align-items: center;background-color: white;padding-right: 0.2em;padding-left: 0.2em;position: relative;}#sk-container-id-4 div.sk-item {position: relative;z-index: 1;}#sk-container-id-4 div.sk-parallel {display: flex;align-items: stretch;justify-content: center;background-color: white;position: relative;}#sk-container-id-4 div.sk-item::before, #sk-container-id-4 div.sk-parallel-item::before {content: \"\";position: absolute;border-left: 1px solid gray;box-sizing: border-box;top: 0;bottom: 0;left: 50%;z-index: -1;}#sk-container-id-4 div.sk-parallel-item {display: flex;flex-direction: column;z-index: 1;position: relative;background-color: white;}#sk-container-id-4 div.sk-parallel-item:first-child::after {align-self: flex-end;width: 50%;}#sk-container-id-4 div.sk-parallel-item:last-child::after {align-self: flex-start;width: 50%;}#sk-container-id-4 div.sk-parallel-item:only-child::after {width: 0;}#sk-container-id-4 div.sk-dashed-wrapped {border: 1px dashed gray;margin: 0 0.4em 0.5em 0.4em;box-sizing: border-box;padding-bottom: 0.4em;background-color: white;}#sk-container-id-4 div.sk-label label {font-family: monospace;font-weight: bold;display: inline-block;line-height: 1.2em;}#sk-container-id-4 div.sk-label-container {text-align: center;}#sk-container-id-4 div.sk-container {/* jupyter's `normalize.less` sets `[hidden] { display: none; }` but bootstrap.min.css set `[hidden] { display: none !important; }` so we also need the `!important` here to be able to override the default hidden behavior on the sphinx rendered scikit-learn.org. See: https://github.com/scikit-learn/scikit-learn/issues/21755 */display: inline-block !important;position: relative;}#sk-container-id-4 div.sk-text-repr-fallback {display: none;}</style><div id=\"sk-container-id-4\" class=\"sk-top-container\"><div class=\"sk-text-repr-fallback\"><pre>GridSearchCV(cv=5, estimator=KNeighborsRegressor(),\n",
       "             param_grid={&#x27;n_neighbors&#x27;: [0, 1, 2, 3, 4, 5, 6, 7, 8, 9],\n",
       "                         &#x27;p&#x27;: [1, 2], &#x27;weights&#x27;: [&#x27;uniform&#x27;, &#x27;distance&#x27;]})</pre><b>In a Jupyter environment, please rerun this cell to show the HTML representation or trust the notebook. <br />On GitHub, the HTML representation is unable to render, please try loading this page with nbviewer.org.</b></div><div class=\"sk-container\" hidden><div class=\"sk-item sk-dashed-wrapped\"><div class=\"sk-label-container\"><div class=\"sk-label sk-toggleable\"><input class=\"sk-toggleable__control sk-hidden--visually\" id=\"sk-estimator-id-6\" type=\"checkbox\" ><label for=\"sk-estimator-id-6\" class=\"sk-toggleable__label sk-toggleable__label-arrow\">GridSearchCV</label><div class=\"sk-toggleable__content\"><pre>GridSearchCV(cv=5, estimator=KNeighborsRegressor(),\n",
       "             param_grid={&#x27;n_neighbors&#x27;: [0, 1, 2, 3, 4, 5, 6, 7, 8, 9],\n",
       "                         &#x27;p&#x27;: [1, 2], &#x27;weights&#x27;: [&#x27;uniform&#x27;, &#x27;distance&#x27;]})</pre></div></div></div><div class=\"sk-parallel\"><div class=\"sk-parallel-item\"><div class=\"sk-item\"><div class=\"sk-label-container\"><div class=\"sk-label sk-toggleable\"><input class=\"sk-toggleable__control sk-hidden--visually\" id=\"sk-estimator-id-7\" type=\"checkbox\" ><label for=\"sk-estimator-id-7\" class=\"sk-toggleable__label sk-toggleable__label-arrow\">estimator: KNeighborsRegressor</label><div class=\"sk-toggleable__content\"><pre>KNeighborsRegressor()</pre></div></div></div><div class=\"sk-serial\"><div class=\"sk-item\"><div class=\"sk-estimator sk-toggleable\"><input class=\"sk-toggleable__control sk-hidden--visually\" id=\"sk-estimator-id-8\" type=\"checkbox\" ><label for=\"sk-estimator-id-8\" class=\"sk-toggleable__label sk-toggleable__label-arrow\">KNeighborsRegressor</label><div class=\"sk-toggleable__content\"><pre>KNeighborsRegressor()</pre></div></div></div></div></div></div></div></div></div></div>"
      ],
      "text/plain": [
       "GridSearchCV(cv=5, estimator=KNeighborsRegressor(),\n",
       "             param_grid={'n_neighbors': [0, 1, 2, 3, 4, 5, 6, 7, 8, 9],\n",
       "                         'p': [1, 2], 'weights': ['uniform', 'distance']})"
      ]
     },
     "execution_count": 105,
     "metadata": {},
     "output_type": "execute_result"
    }
   ],
   "source": [
    "grid.fit(X_train,Y_train)"
   ]
  },
  {
   "cell_type": "code",
   "execution_count": 106,
   "id": "1acc6ce6-bd3d-47f4-8243-f446f7f378b7",
   "metadata": {},
   "outputs": [
    {
     "data": {
      "text/plain": [
       "{'n_neighbors': 9, 'p': 1, 'weights': 'uniform'}"
      ]
     },
     "execution_count": 106,
     "metadata": {},
     "output_type": "execute_result"
    }
   ],
   "source": [
    "grid.best_params_"
   ]
  },
  {
   "cell_type": "code",
   "execution_count": 107,
   "id": "d8cf2208-81a9-4d60-9714-2daf071aef5c",
   "metadata": {},
   "outputs": [],
   "source": [
    "from sklearn.metrics import euclidean_distances"
   ]
  },
  {
   "cell_type": "code",
   "execution_count": 109,
   "id": "e897d9f7-abec-4d1e-99e1-af5d39773929",
   "metadata": {},
   "outputs": [],
   "source": [
    "Y_pred=Kregeressor.predict(X_test)"
   ]
  }
 ],
 "metadata": {
  "kernelspec": {
   "display_name": "Python 3 (ipykernel)",
   "language": "python",
   "name": "python3"
  },
  "language_info": {
   "codemirror_mode": {
    "name": "ipython",
    "version": 3
   },
   "file_extension": ".py",
   "mimetype": "text/x-python",
   "name": "python",
   "nbconvert_exporter": "python",
   "pygments_lexer": "ipython3",
   "version": "3.10.8"
  }
 },
 "nbformat": 4,
 "nbformat_minor": 5
}
